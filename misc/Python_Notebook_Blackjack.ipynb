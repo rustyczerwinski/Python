# defects, bankRoll (was 1105, bet 1000, lost, -895)
# try object copy for game players vs all players
# deck and playerHand could derive from an abstract Hand
# xlexie staying in , murphy out does not work
# xdo not ask about Ace until totalling
# xdo not mess with object stack for game players, just use a flag
# xleft of defect asking high or low on first card Ace (don')
# xleft off trying to get BettingPlayer to instantiate . implementing game with player, bettingplayer, player: need to play until stay, not alternate
# xtell player's name when they start to play (asking about Ace before identifying by name)

#imports
import random
from __future__ import print_function
import psutil
import copy

# usually set manually when developing
# DEBUG = True

#constants
GOAL = 21
PLAYER_DEALER = "house"
PLAYER_BETTER = "gambler"
PLAYER = "justplaying"
CARD_FACE = ["A","2","3","4","5","6","7","8","9","10","J","Q","K"]
CARD_VALUE = {"A":1,"2":2,"3":3,"4":4,"5":5,"6":6,"7":7,"8":8,"9":9,"10":10,"J":10,"Q":10,"K":10}

#classes
class Deck(object):
    global DEBUG
    def __init__(self):
        self.cards = []
        for suit in ("S","C","H","D"):
            for card in range(0,13):
                if DEBUG: print(str(card) + str(CARD_FACE) + CARD_FACE[card])
                self.cards.append([CARD_FACE[card],suit])
        #if DEBUG: print(self.cards)
        random.shuffle(self.cards)
        #if DEBUG: print(self.cards)
    def nextCard(self):
        if DEBUG: print(self.cards)
        card = self.cards.pop()
        if DEBUG: print(card)
        return(card)
    
class Hand(object):
    cardTotal = 0
    totaled = True
    global DEBUG
    global GOAL
    global CARD_VALUE
    def __init__(self):
        global thisDeck
        self.cardTotal = 0
        self.cards = []
        self.addCard(thisDeck.nextCard())
    def __init__(self, firstCard):
        self.cardTotal = 0
        self.cards = []
        self.addCard(firstCard)
    def __str__(self):
        # return(str(self.total()) + " from " + str(self.cards))  
        return(str(self.cards))  
    def addCard(self, card):
        if DEBUG: print(card)
        self.cards.append(card)
        self.totaled = False
        
        # if more than two cards then start totaling
        if len(self.cards) > 2: self.totalAskACEs(False)
    def over(self):
        return (self.totalAskACEs(False) > GOAL)
#    def metGoal(self):
#        return (self.total() == GOAL)
    def total(self):
        return self.totalAskACEs(True)
    def grandTotal(self):
        self.totaled = False
        return self.total()
    def totalAskACEs(self,askACEs):
        if DEBUG: print (self.totaled)
        if self.totaled: return self.cardTotal
        self.cardTotal = 0
        if DEBUG: print("totaling")
        for c in self.cards:
            if DEBUG: print(str(c) + str(c[0]))
            if c[0] == "A":
                if askACEs:
                    if raw_input("In your hand " + str(self.cards) + ": do you want " + str(c) + " to be high or low [H|L]? ").upper() == "H":
                        if DEBUG: print("high Ace")
                        value = 11
                    else:
                        value = 1
                else:
                    value = 1
            else:
                if DEBUG: print(c[0])
                value = CARD_VALUE[c[0]]
            if DEBUG: print (str(value))
            if DEBUG: print(str(self.cardTotal))
            self.cardTotal += value
            if DEBUG: print(str(self.cardTotal))
            
        self.totaled = True
        return self.cardTotal

#generic player - could be dealer, better, etc.
class Player(object):
    global DEBUG
    def __init__(self, name):
        global PLAYER
        if DEBUG: print("player %s" %(name))
        self.stillPlayingHand = True
        self.stillPlayingGame = True
        self.playerType = PLAYER
        self.name = name
    def __str__(self):
        return self.playerType + " " + self.name 
    def newHandwithCard(self,firstCard):
        self.hand = Hand(firstCard)        
        # self.makeBet()
        self.stillPlayingHand = True
    def hit(self, card):
        if DEBUG: print("have %i , new card %s" %(self.hand.totalAskACEs(False),card))
        self.hand.addCard(card)
        # first card down, then call out up cards
        if len(self.hand.cards) > 1: print(self.playerType + " " + self.name + " up card " + str(card))
        # if have 2 cards
        if len(self.hand.cards) > 2:            
            if self.playerType != PLAYER_DEALER: 
#                if len(self.hand.cards) >2:
#                    tellTotal = str(self.hand.total()) + " from " 
#                else:
#                    tellTotal = ""
                print(self.name + " has " + str(self.hand))
            if DEBUG: print(self.showHand())
            if self.hand.over():
                print("Busted!")  
                self.stillPlayingHand = False
    def playHand(self, deck):
        while self.stillPlayingHand:
            if raw_input(self.name + ", you have " + str(self.hand) + ", want another hit?").upper() == "Y":
                self.hit(deck.nextCard())
            else:
                self.stillPlayingHand = False
    def showHand(self):
        return self.playerType + " " + self.name + " has " + str(self.hand)
# dealer Player
class Dealer(Player):
    global DEBUG
    global PLAYER_DEALER
    def __init__(self, name):
        Player.__init__(self, name)
        self.playerType = PLAYER_DEALER
        self.stillPlayingGame = True # dealer always playing
    def playHand(self,deck):
        while self.stillPlayingHand:
            print(self.name + " has " + str(self.hand))
            if len(self.hand.cards) < 2 or self.hand.total() < 16:
                if DEBUG: print("dealer taking")
                card = deck.nextCard()
                self.hit(card)
                if DEBUG: print(len(self.hand.cards))
            else:
                self.stillPlayingHand = False
# bettingplayer Player
class BettingPlayer(Player):
    global DEBUG
    def __init__(self, name, bankroll):
        if DEBUG: print("%s %s" %(name, bankroll))
        Player.__init__(self, name)
        self.bankRoll = bankroll
        global PLAYER_BETTER
        self.playerType = PLAYER_BETTER
        self.bet = 10 # will set later
    def addToBank(self, amount):
        self.bankRoll += amount
    def play(self):
        if DEBUG: print(self.hand.over())
        while not self.hand.over() and self.stillPlayingHand:
            if raw_input("Hit?").upper()=="Y":
                self.hit() 
            else:
                self.stillPlayingHand = False
    def makeBet(self):
        amount = int(raw_input("How much do you want to bet?"))
        #while (int(self.bankRoll) < int(amount)):
        #    print("Please bet no more than your bank roll $%i" %(self.bankRoll))
        #    amount = raw_input("How much do you want to bet?") 
        #          # zz ensure integer
        self.bet = amount
class Game(object):
    global DEBUG
    global PLAYER_BETTER
    def __init__(self, player):
        self.dealer = Dealer("Thor")
        self.deck = Deck()
        self.startPlayers(player)
    def startPlayers(self,player):
        self.numPlayers = 0
        self.players = []
        self.addPlayer(player)
    def addPlayer(self, player):
        player.deck = self.deck
        self.players.append(player)
        if DEBUG: print(self.players)
        self.numPlayers += 1    
    def removePlayer(self, player):
        self.players.remove(player)
    def dealNewHand(self):
        print("New hand")
        # open new hand, including first card
        for p in self.players:
            if p.stillPlayingGame: p.newHandwithCard(self.deck.nextCard())
    
        self.dealer.newHandwithCard(self.deck.nextCard())

        # second card
        for p in self.players:
            if DEBUG: print(p)
            if p.stillPlayingGame: p.hit(self.deck.nextCard())
        self.dealer.hit(self.deck.nextCard())
    def havePlayers(self):
        return len(self.players)>0
    def checkPlayers(self):
        playersChange= False
        for p in self.players:
            if DEBUG: print(p)
            if DEBUG: print(p.playerType)
            if p.playerType == PLAYER_BETTER and p.bankRoll <= 0:
                p.stillPlayingGame = False
            else:
                p.stillPlayingGame = raw_input(p.name + ", in the game for this hand? Y|N").upper() == "Y"           

            if not p.stillPlayingGame: 
                if DEBUG: print(p.name + " no longer playing")
                playersChange = True
                
        # if playersChange: self.updatePlayers()
                    
    def updatePlayers(self):
        if DEBUG: print("updating players")
        print(psutil.cpu_percent())
        print(psutil.virtual_memory()) #  physical memory usage
        formerPlayers = copy.deepcopy(self.players)
        print(psutil.cpu_percent())
        print(psutil.virtual_memory()) #  physical memory usage
        playerNum = 0
        print(psutil.cpu_percent())
        print(psutil.virtual_memory()) #  physical memory usage

        for p in formerPlayers:
            if p.stillPlayingGame: 
                playerNum += 1
                if playerNum == 0:
                    if DEBUG: print(str(len(formerPlayers)) + " formerPlayers, starting new")
                    print(psutil.cpu_percent())
                    print(psutil.virtual_memory()) #  physical memory usage
                    self.startPlayers(p)
                    print(psutil.cpu_percent())
                    print(psutil.virtual_memory()) #  physical memory usage
                else:
                    if DEBUG: print(str(len(formerPlayers)) + " formerPlayers, " + str(len(self.players)) + " updated players")
                    self.addPlayer(p)                    
                    print(psutil.cpu_percent())
                    print(psutil.virtual_memory()) #  physical memory usage     
    
    def everyone(self):
        e = [self.dealer]
        if DEBUG: print ("everyone starts with dealer" + str(e))
        for p in self.players: e.append(p)
        if DEBUG: 
            for a in e: print("everyone includes " + str(a))
        return e
    def playHandAllPlayers(self):
        global PLAYER_BETTER  
        global GOAL
        for p in self.players:
            if DEBUG: print("%s play %i" %(p,p.hand.totalAskACEs(False)))
            if p.stillPlayingGame: 
                p.playHand(self.deck)
            if DEBUG: print("%s play %i" %(p,p.hand.totalAskACEs(False)))
        self.dealer.playHand(self.deck)
        # now determine result
        print("Game over:")
        for p in self.everyone():
            if p.stillPlayingGame:
                print(p.playerType + " " + p.name)
                print(" has " + str(p.hand))
        print(self.dealer.playerType + " " + self.dealer.name)
        print(" has " + str(self.dealer.hand.grandTotal()))
        for p in self.players:
            if p.stillPlayingGame:
                print(p.playerType + " " + p.name)
                msg = " "
                if (p.hand.over() or ( (not self.dealer.hand.over()) and (p.hand.grandTotal() < self.dealer.hand.total()) ) ):
                    msg += "loses"
                    if p.playerType == PLAYER_BETTER:
                        p.addToBank(-1*p.bet)
                        msg += " $" + str(p.bet) + ". Bankroll now: $" + str(p.bankRoll)
                    msg += "."
                elif (self.dealer.hand.over() or p.hand.grandTotal() > self.dealer.hand.total()):
                    msg += "wins"
                    if p.playerType == PLAYER_BETTER:
                        p.addToBank(p.bet)
                        msg += " $" + str(p.bet) + ".  Bankroll now: $" + str(p.bankRoll)
                    msg += "!"
                elif p.hand.grandTotal() < self.dealer.hand.grandTotal():
                    msg += "ties with dealer, push."
                print(msg)
    def hasPlayers(self):
        for p in self.players:
            if p.stillPlayingGame: return True
        return False

DEBUG = False
if DEBUG: print("Debug mode")
lexie = BettingPlayer("Lexie",1000)
game = Game(lexie)

murphy = BettingPlayer("murphy",500)
if DEBUG: print("add")
game.addPlayer(murphy)
while game.hasPlayers():
    if DEBUG: print("deal")
    game.dealNewHand()
    if DEBUG: print("play")
    game.playHandAllPlayers()
    game.checkPlayers()

print("Good game!")