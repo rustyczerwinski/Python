{
 "cells": [
  {
   "cell_type": "code",
   "execution_count": 4,
   "metadata": {
    "collapsed": true
   },
   "outputs": [],
   "source": [
    "def print_row(rowNum):\n",
    "    global cols\n",
    "    global plays\n",
    "    global mark\n",
    "    global no_mark\n",
    "    global debug\n",
    "    thisRow = \"\"\n",
    "    startPos = cols*(rowNum)\n",
    "    if debug: print plays\n",
    "    # if debug: print \"print_row %i %i %s %s %i\" %(cols,plays,mark,no_mark,startPos)\n",
    "    for pos in range(startPos,startPos+cols): thisRow += plays[pos]\n",
    "    print thisRow"
   ]
  },
  {
   "cell_type": "code",
   "execution_count": null,
   "metadata": {
    "collapsed": true
   },
   "outputs": [],
   "source": []
  },
  {
   "cell_type": "code",
   "execution_count": 5,
   "metadata": {
    "collapsed": false
   },
   "outputs": [],
   "source": [
    "def board_empty():\n",
    "    global cols\n",
    "    global rows\n",
    "    global plays\n",
    "    global debug\n",
    "    global no_mark\n",
    "    if debug: print plays\n",
    "    if debug: print no_mark\n",
    "    \n",
    "    for pos in range(0,rows*cols): \n",
    "        if plays[pos] != no_mark:\n",
    "            if debug: print \"found mark at position: %i\" %(pos)\n",
    "            return False \n",
    "    return True"
   ]
  },
  {
   "cell_type": "code",
   "execution_count": null,
   "metadata": {
    "collapsed": true
   },
   "outputs": [],
   "source": []
  },
  {
   "cell_type": "code",
   "execution_count": 6,
   "metadata": {
    "collapsed": true
   },
   "outputs": [],
   "source": [
    "player1_mark = \"X\"\n",
    "player2_mark = \"O\" "
   ]
  },
  {
   "cell_type": "code",
   "execution_count": null,
   "metadata": {
    "collapsed": true
   },
   "outputs": [],
   "source": []
  },
  {
   "cell_type": "code",
   "execution_count": 7,
   "metadata": {
    "collapsed": true
   },
   "outputs": [],
   "source": [
    "next_player = 1"
   ]
  },
  {
   "cell_type": "code",
   "execution_count": null,
   "metadata": {
    "collapsed": true
   },
   "outputs": [],
   "source": []
  },
  {
   "cell_type": "code",
   "execution_count": 8,
   "metadata": {
    "collapsed": false
   },
   "outputs": [],
   "source": [
    "def draw_board():\n",
    "    global rows\n",
    "    for row in range(0,rows): print_row(row)"
   ]
  },
  {
   "cell_type": "code",
   "execution_count": 10,
   "metadata": {
    "collapsed": false
   },
   "outputs": [],
   "source": [
    "def make_play(player, pos):\n",
    "    global next_player\n",
    "    global debug\n",
    "    \n",
    "    if board_empty():\n",
    "        next_player = player\n",
    "        if debug: print (\"board empty, player is %i\" %(next_player))\n",
    "    elif player != next_player: \n",
    "        print \"Wrong player.  Player %i's turn.\" %(next_player)\n",
    "        return\n",
    "    \n",
    "    global plays\n",
    "    if debug: \n",
    "        print plays\n",
    "        print plays[pos]\n",
    "\n",
    "    if plays[pos] != no_mark: \n",
    "        print \"Already a play there.  Please select another position.  See current board below.\"\n",
    "    else:\n",
    "        if debug: print \"Making play.%i %s\" %(pos,mark[player])\n",
    "        plays[pos]=mark[player]\n",
    "        next_player = 3 - next_player\n",
    "        if check_for_winner(player):\n",
    "            print \"Player %i wins!\" %(player)\n",
    "            print \"Winning board:\"\n",
    "            draw_board()\n",
    "            reset_plays()\n",
    "        else:\n",
    "            draw_board()"
   ]
  },
  {
   "cell_type": "code",
   "execution_count": null,
   "metadata": {
    "collapsed": true
   },
   "outputs": [],
   "source": []
  },
  {
   "cell_type": "code",
   "execution_count": 11,
   "metadata": {
    "collapsed": false
   },
   "outputs": [],
   "source": [
    "check_for_winner = lambda player: any_row_winner(player) or any_column_winner(player) or any_diagonal_winner(player)"
   ]
  },
  {
   "cell_type": "code",
   "execution_count": null,
   "metadata": {
    "collapsed": true
   },
   "outputs": [],
   "source": []
  },
  {
   "cell_type": "code",
   "execution_count": null,
   "metadata": {
    "collapsed": true
   },
   "outputs": [],
   "source": []
  },
  {
   "cell_type": "code",
   "execution_count": 12,
   "metadata": {
    "collapsed": false
   },
   "outputs": [],
   "source": [
    "def any_row_winner(player):\n",
    "    global rows\n",
    "    \n",
    "    for row in range(0,rows-1): \n",
    "        if row_winner(player,row): return True\n",
    "    return False    "
   ]
  },
  {
   "cell_type": "code",
   "execution_count": null,
   "metadata": {
    "collapsed": true
   },
   "outputs": [],
   "source": []
  },
  {
   "cell_type": "code",
   "execution_count": null,
   "metadata": {
    "collapsed": true
   },
   "outputs": [],
   "source": []
  },
  {
   "cell_type": "code",
   "execution_count": 13,
   "metadata": {
    "collapsed": false
   },
   "outputs": [],
   "source": [
    "def any_column_winner(player):\n",
    "    global cols\n",
    "    \n",
    "    for col in range(0,cols): \n",
    "        if column_winner(player,col): return True\n",
    "    return False    "
   ]
  },
  {
   "cell_type": "code",
   "execution_count": null,
   "metadata": {
    "collapsed": true
   },
   "outputs": [],
   "source": []
  },
  {
   "cell_type": "code",
   "execution_count": null,
   "metadata": {
    "collapsed": true
   },
   "outputs": [],
   "source": []
  },
  {
   "cell_type": "code",
   "execution_count": 14,
   "metadata": {
    "collapsed": false
   },
   "outputs": [],
   "source": [
    "def row_winner(player, row):\n",
    "    global plays\n",
    "    global rows\n",
    "    global cols\n",
    "    global debug\n",
    "    if debug: print \"row_winner\"\n",
    "    startPos = row*cols\n",
    "    endPos = startPos + cols\n",
    "    winner = True\n",
    "    \n",
    "    for pos in range(startPos, endPos):\n",
    "        if debug: \n",
    "            print plays\n",
    "            print mark[player]\n",
    "\n",
    "        if not plays[pos] == mark[player]: winner = False\n",
    "    if debug: print \"Row winner return: %r\" %(winner)\n",
    "    return winner"
   ]
  },
  {
   "cell_type": "code",
   "execution_count": null,
   "metadata": {
    "collapsed": true
   },
   "outputs": [],
   "source": []
  },
  {
   "cell_type": "code",
   "execution_count": 15,
   "metadata": {
    "collapsed": false
   },
   "outputs": [],
   "source": [
    "def column_winner(player,col):\n",
    "    global plays\n",
    "    global rows\n",
    "    global cols\n",
    "    global debug\n",
    "    if debug: print \"column_winner %i %i\" %(player,col)\n",
    "    \n",
    "    startPos = col\n",
    "    endPos = rows*cols\n",
    "    winner = True\n",
    "    if debug: print(\"%i %i %i\" %(startPos,endPos, cols))\n",
    "    for pos in range(startPos, endPos, cols):\n",
    "       if not plays[pos] == mark[player]: winner = False\n",
    "    if debug: print \"Column winner return: %r\" %(winner)\n",
    "    return winner"
   ]
  },
  {
   "cell_type": "code",
   "execution_count": null,
   "metadata": {
    "collapsed": true
   },
   "outputs": [],
   "source": []
  },
  {
   "cell_type": "code",
   "execution_count": 16,
   "metadata": {
    "collapsed": false
   },
   "outputs": [],
   "source": [
    "def any_diagonal_winner(player):\n",
    "    global plays\n",
    "    global rows\n",
    "    global cols\n",
    "    global debug\n",
    "    startPos = 0\n",
    "    endPos = rows*cols\n",
    "    winner_left = True\n",
    "    winner_right = True\n",
    "    if debug: print(\"%i %i %i\" %(startPos,endPos, cols))\n",
    "    for pos in range(startPos, endPos, cols+1):\n",
    "        if debug: print pos\n",
    "        if not plays[pos] == mark[player]: winner_right = False\n",
    "    for pos in range(cols-1, endPos-1, cols-1):\n",
    "        if debug: print pos\n",
    "        if not plays[pos] == mark[player]: winner_left = False\n",
    "\n",
    "    if debug: print \"Diagonal winner return: %r %r\" %(winner_right,winner_left)\n",
    "    return winner_left or winner_right"
   ]
  },
  {
   "cell_type": "code",
   "execution_count": null,
   "metadata": {
    "collapsed": true
   },
   "outputs": [],
   "source": []
  },
  {
   "cell_type": "code",
   "execution_count": null,
   "metadata": {
    "collapsed": true
   },
   "outputs": [],
   "source": []
  },
  {
   "cell_type": "code",
   "execution_count": null,
   "metadata": {
    "collapsed": true
   },
   "outputs": [],
   "source": []
  },
  {
   "cell_type": "code",
   "execution_count": 17,
   "metadata": {
    "collapsed": false
   },
   "outputs": [],
   "source": [
    "def reset_plays():\n",
    "    global plays\n",
    "    global rows\n",
    "    global cols\n",
    "    global next_player\n",
    "    plays = [no_mark]\n",
    "    for pos in range(1,(rows*cols)+1):\n",
    "        #print pos\n",
    "        plays.append(no_mark)\n",
    "    #print plays\n",
    "    \n",
    "    next_player = 1\n",
    "    print \"New game. Player %i's turn.\" %(next_player)\n",
    "    draw_board()\n"
   ]
  },
  {
   "cell_type": "code",
   "execution_count": null,
   "metadata": {
    "collapsed": true
   },
   "outputs": [],
   "source": []
  },
  {
   "cell_type": "code",
   "execution_count": null,
   "metadata": {
    "collapsed": true
   },
   "outputs": [],
   "source": []
  },
  {
   "cell_type": "code",
   "execution_count": 18,
   "metadata": {
    "collapsed": true
   },
   "outputs": [],
   "source": [
    "rows = 3"
   ]
  },
  {
   "cell_type": "code",
   "execution_count": null,
   "metadata": {
    "collapsed": true
   },
   "outputs": [],
   "source": []
  },
  {
   "cell_type": "code",
   "execution_count": 19,
   "metadata": {
    "collapsed": true
   },
   "outputs": [],
   "source": [
    "cols = 3"
   ]
  },
  {
   "cell_type": "code",
   "execution_count": null,
   "metadata": {
    "collapsed": true
   },
   "outputs": [],
   "source": []
  },
  {
   "cell_type": "code",
   "execution_count": 20,
   "metadata": {
    "collapsed": true
   },
   "outputs": [],
   "source": [
    "cellsize = 10"
   ]
  },
  {
   "cell_type": "code",
   "execution_count": null,
   "metadata": {
    "collapsed": true
   },
   "outputs": [],
   "source": []
  },
  {
   "cell_type": "code",
   "execution_count": 21,
   "metadata": {
    "collapsed": true
   },
   "outputs": [],
   "source": [
    "no_mark = \"-\""
   ]
  },
  {
   "cell_type": "code",
   "execution_count": null,
   "metadata": {
    "collapsed": true
   },
   "outputs": [],
   "source": []
  },
  {
   "cell_type": "code",
   "execution_count": 23,
   "metadata": {
    "collapsed": true
   },
   "outputs": [],
   "source": [
    "debug = False"
   ]
  },
  {
   "cell_type": "code",
   "execution_count": 25,
   "metadata": {
    "collapsed": true
   },
   "outputs": [],
   "source": [
    "mark = [\"\",\"X\",\"O\"]"
   ]
  },
  {
   "cell_type": "code",
   "execution_count": 37,
   "metadata": {
    "collapsed": true
   },
   "outputs": [],
   "source": [
    "rows = 3"
   ]
  },
  {
   "cell_type": "code",
   "execution_count": 38,
   "metadata": {
    "collapsed": true
   },
   "outputs": [],
   "source": [
    "cols = 3"
   ]
  },
  {
   "cell_type": "code",
   "execution_count": null,
   "metadata": {
    "collapsed": true
   },
   "outputs": [],
   "source": []
  }
 ],
 "metadata": {
  "anaconda-cloud": {},
  "kernelspec": {
   "display_name": "Python [default]",
   "language": "python",
   "name": "python2"
  },
  "language_info": {
   "codemirror_mode": {
    "name": "ipython",
    "version": 2
   },
   "file_extension": ".py",
   "mimetype": "text/x-python",
   "name": "python",
   "nbconvert_exporter": "python",
   "pygments_lexer": "ipython2",
   "version": "2.7.12"
  }
 },
 "nbformat": 4,
 "nbformat_minor": 1
}
